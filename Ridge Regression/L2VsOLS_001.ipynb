{
 "cells": [
  {
   "cell_type": "code",
   "execution_count": 1,
   "id": "2d6beaec-0f7a-437e-8e88-d98a059288df",
   "metadata": {},
   "outputs": [],
   "source": [
    "import numpy as np"
   ]
  },
  {
   "cell_type": "code",
   "execution_count": 2,
   "id": "817e1609-c4a8-4928-b27f-253e49a374e7",
   "metadata": {},
   "outputs": [],
   "source": [
    "def sse(y_true, y_pred):\n",
    "    errors = y_true - y_pred\n",
    "    return np.sum(errors ** 2)"
   ]
  },
  {
   "cell_type": "code",
   "execution_count": 3,
   "id": "f4878f9b-1a6f-47c8-9f30-ff1ac4fa4e10",
   "metadata": {},
   "outputs": [],
   "source": [
    "def sse_with_l2_penalty(y_true, y_pred, weights, lambda_=0.1):\n",
    "    errors = y_true - y_pred\n",
    "    sse = np.sum(errors ** 2)\n",
    "    l2_penalty = lambda_ * np.sum(weights ** 2)  # L2 regularization term\n",
    "    return sse + l2_penalty"
   ]
  },
  {
   "cell_type": "code",
   "execution_count": 4,
   "id": "b5fe7de9-c9bf-4297-8fe4-f381b1829173",
   "metadata": {},
   "outputs": [
    {
     "name": "stdout",
     "output_type": "stream",
     "text": [
      "X shape: (100, 5)\n",
      "y shape: (100,)\n"
     ]
    }
   ],
   "source": [
    "# Synthetic data (100 samples, 5 features)\n",
    "n = 100\n",
    "np.random.seed(42)\n",
    "X = np.random.rand(n, 5)  # Feature matrix (100 samples, 5 dimensions)\n",
    "y = (2 * X[:, 0]) + (3 * X[:, 1]) + (-1.5 * X[:, 2]) + (5 * X[:, 3]) + (8 * X[:, 4]) + np.random.normal(0, 0.1, n)  # Target (with noise)\n",
    "\n",
    "print(\"X shape:\", X.shape)  # (100, 5)\n",
    "print(\"y shape:\", y.shape)  # (100,)"
   ]
  },
  {
   "cell_type": "code",
   "execution_count": 5,
   "id": "4670bba6-e444-4eca-93b2-b66555e7255e",
   "metadata": {},
   "outputs": [
    {
     "name": "stdout",
     "output_type": "stream",
     "text": [
      "OLS coefficients (no regularization): [ 0.02372119  1.97370507  2.95754321 -1.45369333  5.00382624  7.96857764]\n"
     ]
    }
   ],
   "source": [
    "# Add a column of 1s for the intercept term\n",
    "X_design = np.column_stack([np.ones(X.shape[0]), X])\n",
    "\n",
    "# Calculate coefficients using normal equation: (X^T X)^-1 X^T y\n",
    "Xt = X_design.T\n",
    "coefficients_ols = np.linalg.inv(Xt @ X_design) @ Xt @ y\n",
    "y_pred_ols = X_design @ coefficients_ols\n",
    "sse_ols = (1/n)*(np.sum((y - y_pred_ols)**2))\n",
    "\n",
    "print(\"OLS coefficients (no regularization):\", coefficients_ols)"
   ]
  },
  {
   "cell_type": "code",
   "execution_count": 6,
   "id": "a63f6bf5-a60b-4ab9-9abf-48d21da11843",
   "metadata": {},
   "outputs": [
    {
     "data": {
      "text/plain": [
       "4450562.837096812"
      ]
     },
     "execution_count": 6,
     "metadata": {},
     "output_type": "execute_result"
    }
   ],
   "source": [
    "np.linalg.det(Xt @ X_design)"
   ]
  },
  {
   "cell_type": "code",
   "execution_count": 7,
   "id": "0df9a00a-72e2-4d49-9c58-1b2395d0bfa5",
   "metadata": {},
   "outputs": [
    {
     "name": "stdout",
     "output_type": "stream",
     "text": [
      "Ridge coefficients (with L2 penalty): [ 0.11787188  1.94359023  2.90707474 -1.44507338  4.96767395  7.88529494]\n"
     ]
    }
   ],
   "source": [
    "# Set ridge parameter (lambda)\n",
    "lambda_ = 0.1\n",
    "\n",
    "# Identity matrix with appropriate dimensions (number of features + 1 for intercept)\n",
    "I = np.identity(X_design.shape[1])\n",
    "I[0, 0] = 0  # No penalty applied to intercept\n",
    "\n",
    "# Calculate ridge coefficients: (X^T X + lambda*I)^-1 X^T y\n",
    "coefficients_ridge = np.linalg.inv(Xt @ X_design + lambda_ * I) @ Xt @ y\n",
    "y_pred_ridge = X_design @ coefficients_ridge\n",
    "sse_ridge = (1/n)*(np.sum((y - y_pred_ridge)**2))\n",
    "\n",
    "l2_penalty = lambda_ * np.sum(coefficients_ridge[1:]**2) \n",
    "total_loss_ridge = sse_ridge + l2_penalty\n",
    "\n",
    "print(\"Ridge coefficients (with L2 penalty):\", coefficients_ridge)"
   ]
  },
  {
   "cell_type": "code",
   "execution_count": 8,
   "id": "1b45a541-2ec4-4316-a403-aca9603fa04e",
   "metadata": {},
   "outputs": [
    {
     "data": {
      "text/plain": [
       "4728550.889363463"
      ]
     },
     "execution_count": 8,
     "metadata": {},
     "output_type": "execute_result"
    }
   ],
   "source": [
    "np.linalg.det(Xt @ X_design + lambda_ * I)"
   ]
  },
  {
   "cell_type": "code",
   "execution_count": 9,
   "id": "9641a88b-3b56-43d8-9d2e-25bb6593cd68",
   "metadata": {},
   "outputs": [
    {
     "name": "stdout",
     "output_type": "stream",
     "text": [
      "\n",
      "=== Model Results ===\n",
      "OLS Coefficients:         [ 0.0237  1.9737  2.9575 -1.4537  5.0038  7.9686]\n",
      "Ridge Coefficients (λ=0.1): [ 0.1179  1.9436  2.9071 -1.4451  4.9677  7.8853]\n",
      "\n",
      "=== Performance Metrics ===\n",
      "OLS MSE:                  0.011238\n",
      "Ridge MSE:                0.012292\n",
      "Ridge Total Loss:         10.129545 (MSE + L2 penalty)\n"
     ]
    }
   ],
   "source": [
    "# Display results\n",
    "print(\"\\n=== Model Results ===\")\n",
    "print(f\"{'OLS Coefficients:':<25}\", np.round(coefficients_ols, 4))\n",
    "print(f\"{'Ridge Coefficients (λ=0.1):':<25}\", np.round(coefficients_ridge, 4))\n",
    "\n",
    "print(\"\\n=== Performance Metrics ===\")\n",
    "print(f\"{'OLS MSE:':<25} {sse_ols:.6f}\")\n",
    "print(f\"{'Ridge MSE:':<25} {sse_ridge:.6f}\") \n",
    "print(f\"{'Ridge Total Loss:':<25} {total_loss_ridge:.6f} (MSE + L2 penalty)\")"
   ]
  },
  {
   "cell_type": "code",
   "execution_count": 10,
   "id": "0a30d9d4-55ca-4883-b874-eba08386c682",
   "metadata": {},
   "outputs": [
    {
     "data": {
      "text/plain": [
       "13.430344574163156"
      ]
     },
     "execution_count": 10,
     "metadata": {},
     "output_type": "execute_result"
    }
   ],
   "source": [
    "y[52]"
   ]
  },
  {
   "cell_type": "code",
   "execution_count": 11,
   "id": "80d82d81-8b91-4f04-b2e8-5ac849297826",
   "metadata": {},
   "outputs": [
    {
     "data": {
      "text/plain": [
       "13.547098874093882"
      ]
     },
     "execution_count": 11,
     "metadata": {},
     "output_type": "execute_result"
    }
   ],
   "source": [
    "y_pred_ols[52]"
   ]
  },
  {
   "cell_type": "code",
   "execution_count": 12,
   "id": "3366783e-d656-424f-b37d-c3f6797d00b6",
   "metadata": {},
   "outputs": [
    {
     "data": {
      "text/plain": [
       "13.482160929164149"
      ]
     },
     "execution_count": 12,
     "metadata": {},
     "output_type": "execute_result"
    }
   ],
   "source": [
    "y_pred_ridge[52]"
   ]
  },
  {
   "cell_type": "code",
   "execution_count": 13,
   "id": "09853d38-e491-428d-a0cf-f9a63cda231e",
   "metadata": {},
   "outputs": [],
   "source": [
    "# Finish"
   ]
  }
 ],
 "metadata": {
  "kernelspec": {
   "display_name": "Python 3 (ipykernel)",
   "language": "python",
   "name": "python3"
  },
  "language_info": {
   "codemirror_mode": {
    "name": "ipython",
    "version": 3
   },
   "file_extension": ".py",
   "mimetype": "text/x-python",
   "name": "python",
   "nbconvert_exporter": "python",
   "pygments_lexer": "ipython3",
   "version": "3.12.7"
  }
 },
 "nbformat": 4,
 "nbformat_minor": 5
}
