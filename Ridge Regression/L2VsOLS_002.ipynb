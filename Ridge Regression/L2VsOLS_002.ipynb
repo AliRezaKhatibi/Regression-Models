{
 "cells": [
  {
   "cell_type": "code",
   "execution_count": 1,
   "id": "40cc560f-b246-4d93-9256-626d3918344e",
   "metadata": {},
   "outputs": [],
   "source": [
    "import numpy as np\n",
    "import pandas as pd\n",
    "from IPython.display import display"
   ]
  },
  {
   "cell_type": "code",
   "execution_count": 2,
   "id": "e777bc8f-d2b2-4901-8962-4ed454af5031",
   "metadata": {},
   "outputs": [
    {
     "name": "stdout",
     "output_type": "stream",
     "text": [
      "\n",
      "=== Matrix Properties ===\n",
      "X shape:                       (100, 6)\n",
      "Determinant of Xt @ X (raw):   -7.360311992027218e-08\n",
      "Absolute determinant (rounded): 0.0\n"
     ]
    }
   ],
   "source": [
    "# Initial setup\n",
    "n = 100  # Number of samples\n",
    "np.random.seed(42)\n",
    "\n",
    "# Generate X matrix with a linearly dependent column (column 4 = 2*column 0 + column 1)\n",
    "X = np.random.rand(n, 4)  # 4 independent columns\n",
    "X = np.column_stack([X, 2 * X[:, 0] + X[:, 1]])  # Add linearly dependent column (column 5)\n",
    "\n",
    "# Generate y using only independent columns (excluding the dependent column)\n",
    "y = 2 * X[:, 0] + 3 * X[:, 1] - 1.5 * X[:, 2] + np.random.normal(0, 0.1, n)\n",
    "\n",
    "# Check invertibility of Xt @ X\n",
    "X = np.column_stack([np.ones(X.shape[0]), X])  # Add intercept column\n",
    "XtX = X.T @ X\n",
    "det = np.linalg.det(XtX)\n",
    "\n",
    "# Round to 4 decimal places\n",
    "det_rounded = round(det, 4)\n",
    "\n",
    "print(\"\\n=== Matrix Properties ===\")\n",
    "print(f\"{'X shape:':<30}\", X.shape)\n",
    "print(f\"{'Determinant of Xt @ X (raw):':<30}\", det)\n",
    "print(f\"{'Absolute determinant (rounded):':<30}\", np.abs(det_rounded))"
   ]
  },
  {
   "cell_type": "code",
   "execution_count": 3,
   "id": "5c7ac46d-d367-4f3f-8d21-c9cac20749f6",
   "metadata": {},
   "outputs": [
    {
     "data": {
      "text/plain": [
       "5"
      ]
     },
     "execution_count": 3,
     "metadata": {},
     "output_type": "execute_result"
    }
   ],
   "source": [
    "np.linalg.matrix_rank(XtX)"
   ]
  },
  {
   "cell_type": "markdown",
   "id": "6975de56-048d-4dbf-9f28-a0252e3a0dc7",
   "metadata": {},
   "source": [
    "# Condition Number: Numerical Stability in Linear Algebra\n",
    "\n",
    "## Definition\n",
    "The condition number (κ) is a fundamental metric in numerical linear algebra that quantifies the sensitivity of a matrix to numerical errors during critical operations.\n",
    "\n",
    "## Mathematical Formulation\n",
    "\n",
    "### 1. General Definition\n",
    "For any matrix **A** ∈ ℝⁿˣⁿ with respect to a given norm ‖·‖:\n",
    "\n",
    "\n",
    "$$\n",
    "\\kappa(A) = \n",
    "\\begin{cases} \n",
    "\\|A\\| \\cdot \\|A^{-1}\\| & \\text{if } A \\text{ is invertible} \\\\ \n",
    "\\infty & \\text{if } A \\text{ is singular} \n",
    "\\end{cases}\n",
    "$$\n",
    "\n",
    "| $\\kappa(A)$ Range       | Numerical Stability   | Maximum Precision Loss ($\\log_{10}\\kappa$) |\n",
    "|-------------------------|----------------------|------------------------------------------|\n",
    "| $1$–$10^1$              | Excellent            | < 1 decimal digit                       |\n",
    "| $10^1$–$10^3$           | Good                 | 1–3 decimal digits                     |\n",
    "| $10^3$–$10^6$           | Acceptable           | 3–6 decimal digits                     |\n",
    "| $10^6$–$10^{12}$        | Problematic          | 6–12 decimal digits                    |\n",
    "| $> 10^{12}$             | Unusable             | Complete loss of precision             |\n",
    "\n",
    "\n",
    "\n",
    "---\n",
    "\n",
    "Higham, N. J. (2002). \"Accuracy and Stability of Numerical Algorithms\"\n",
    "\n",
    "Trefethen, L. N., & Bau, D. (1997). \"Numerical Linear Algebra\""
   ]
  },
  {
   "cell_type": "code",
   "execution_count": 4,
   "id": "66839332-7bcb-428e-b215-3982d3de88d1",
   "metadata": {},
   "outputs": [
    {
     "data": {
      "text/html": [
       "<style type=\"text/css\">\n",
       "#T_8f527 caption {\n",
       "  font-size: 14pt;\n",
       "  color: darkblue;\n",
       "  font-weight: bold;\n",
       "}\n",
       "#T_8f527_row0_col0, #T_8f527_row1_col0, #T_8f527_row1_col5, #T_8f527_row2_col0, #T_8f527_row2_col3, #T_8f527_row3_col0, #T_8f527_row4_col0, #T_8f527_row5_col0, #T_8f527_row6_col0, #T_8f527_row7_col0, #T_8f527_row7_col2, #T_8f527_row7_col4, #T_8f527_row8_col0, #T_8f527_row8_col1, #T_8f527_row9_col0 {\n",
       "  background-color: #f7fbff;\n",
       "  color: #000000;\n",
       "  text-align: center;\n",
       "  font-weight: bold;\n",
       "  border: 1px solid black;\n",
       "}\n",
       "#T_8f527_row0_col1 {\n",
       "  background-color: #92c4de;\n",
       "  color: #000000;\n",
       "  text-align: center;\n",
       "  font-weight: bold;\n",
       "  border: 1px solid black;\n",
       "}\n",
       "#T_8f527_row0_col2, #T_8f527_row2_col4, #T_8f527_row2_col5, #T_8f527_row3_col1, #T_8f527_row8_col2, #T_8f527_row8_col3 {\n",
       "  background-color: #08306b;\n",
       "  color: #f1f1f1;\n",
       "  text-align: center;\n",
       "  font-weight: bold;\n",
       "  border: 1px solid black;\n",
       "}\n",
       "#T_8f527_row0_col3 {\n",
       "  background-color: #2070b4;\n",
       "  color: #f1f1f1;\n",
       "  text-align: center;\n",
       "  font-weight: bold;\n",
       "  border: 1px solid black;\n",
       "}\n",
       "#T_8f527_row0_col4 {\n",
       "  background-color: #5fa6d1;\n",
       "  color: #f1f1f1;\n",
       "  text-align: center;\n",
       "  font-weight: bold;\n",
       "  border: 1px solid black;\n",
       "}\n",
       "#T_8f527_row0_col5, #T_8f527_row6_col5 {\n",
       "  background-color: #0c56a0;\n",
       "  color: #f1f1f1;\n",
       "  text-align: center;\n",
       "  font-weight: bold;\n",
       "  border: 1px solid black;\n",
       "}\n",
       "#T_8f527_row1_col1 {\n",
       "  background-color: #dfecf7;\n",
       "  color: #000000;\n",
       "  text-align: center;\n",
       "  font-weight: bold;\n",
       "  border: 1px solid black;\n",
       "}\n",
       "#T_8f527_row1_col2 {\n",
       "  background-color: #dfebf7;\n",
       "  color: #000000;\n",
       "  text-align: center;\n",
       "  font-weight: bold;\n",
       "  border: 1px solid black;\n",
       "}\n",
       "#T_8f527_row1_col3 {\n",
       "  background-color: #eff6fc;\n",
       "  color: #000000;\n",
       "  text-align: center;\n",
       "  font-weight: bold;\n",
       "  border: 1px solid black;\n",
       "}\n",
       "#T_8f527_row1_col4 {\n",
       "  background-color: #09529d;\n",
       "  color: #f1f1f1;\n",
       "  text-align: center;\n",
       "  font-weight: bold;\n",
       "  border: 1px solid black;\n",
       "}\n",
       "#T_8f527_row2_col1 {\n",
       "  background-color: #2f7fbc;\n",
       "  color: #f1f1f1;\n",
       "  text-align: center;\n",
       "  font-weight: bold;\n",
       "  border: 1px solid black;\n",
       "}\n",
       "#T_8f527_row2_col2 {\n",
       "  background-color: #2575b7;\n",
       "  color: #f1f1f1;\n",
       "  text-align: center;\n",
       "  font-weight: bold;\n",
       "  border: 1px solid black;\n",
       "}\n",
       "#T_8f527_row3_col2 {\n",
       "  background-color: #d3e4f3;\n",
       "  color: #000000;\n",
       "  text-align: center;\n",
       "  font-weight: bold;\n",
       "  border: 1px solid black;\n",
       "}\n",
       "#T_8f527_row3_col3 {\n",
       "  background-color: #d6e5f4;\n",
       "  color: #000000;\n",
       "  text-align: center;\n",
       "  font-weight: bold;\n",
       "  border: 1px solid black;\n",
       "}\n",
       "#T_8f527_row3_col4 {\n",
       "  background-color: #f4f9fe;\n",
       "  color: #000000;\n",
       "  text-align: center;\n",
       "  font-weight: bold;\n",
       "  border: 1px solid black;\n",
       "}\n",
       "#T_8f527_row3_col5 {\n",
       "  background-color: #083573;\n",
       "  color: #f1f1f1;\n",
       "  text-align: center;\n",
       "  font-weight: bold;\n",
       "  border: 1px solid black;\n",
       "}\n",
       "#T_8f527_row4_col1, #T_8f527_row9_col1 {\n",
       "  background-color: #b3d3e8;\n",
       "  color: #000000;\n",
       "  text-align: center;\n",
       "  font-weight: bold;\n",
       "  border: 1px solid black;\n",
       "}\n",
       "#T_8f527_row4_col2, #T_8f527_row7_col5 {\n",
       "  background-color: #61a7d2;\n",
       "  color: #f1f1f1;\n",
       "  text-align: center;\n",
       "  font-weight: bold;\n",
       "  border: 1px solid black;\n",
       "}\n",
       "#T_8f527_row4_col3 {\n",
       "  background-color: #85bcdc;\n",
       "  color: #000000;\n",
       "  text-align: center;\n",
       "  font-weight: bold;\n",
       "  border: 1px solid black;\n",
       "}\n",
       "#T_8f527_row4_col4 {\n",
       "  background-color: #d9e8f5;\n",
       "  color: #000000;\n",
       "  text-align: center;\n",
       "  font-weight: bold;\n",
       "  border: 1px solid black;\n",
       "}\n",
       "#T_8f527_row4_col5 {\n",
       "  background-color: #7ab6d9;\n",
       "  color: #000000;\n",
       "  text-align: center;\n",
       "  font-weight: bold;\n",
       "  border: 1px solid black;\n",
       "}\n",
       "#T_8f527_row5_col1 {\n",
       "  background-color: #2b7bba;\n",
       "  color: #f1f1f1;\n",
       "  text-align: center;\n",
       "  font-weight: bold;\n",
       "  border: 1px solid black;\n",
       "}\n",
       "#T_8f527_row5_col2 {\n",
       "  background-color: #e3eef8;\n",
       "  color: #000000;\n",
       "  text-align: center;\n",
       "  font-weight: bold;\n",
       "  border: 1px solid black;\n",
       "}\n",
       "#T_8f527_row5_col3 {\n",
       "  background-color: #bad6eb;\n",
       "  color: #000000;\n",
       "  text-align: center;\n",
       "  font-weight: bold;\n",
       "  border: 1px solid black;\n",
       "}\n",
       "#T_8f527_row5_col4 {\n",
       "  background-color: #c7dcef;\n",
       "  color: #000000;\n",
       "  text-align: center;\n",
       "  font-weight: bold;\n",
       "  border: 1px solid black;\n",
       "}\n",
       "#T_8f527_row5_col5, #T_8f527_row7_col3 {\n",
       "  background-color: #4493c7;\n",
       "  color: #f1f1f1;\n",
       "  text-align: center;\n",
       "  font-weight: bold;\n",
       "  border: 1px solid black;\n",
       "}\n",
       "#T_8f527_row6_col1 {\n",
       "  background-color: #68acd5;\n",
       "  color: #f1f1f1;\n",
       "  text-align: center;\n",
       "  font-weight: bold;\n",
       "  border: 1px solid black;\n",
       "}\n",
       "#T_8f527_row6_col2 {\n",
       "  background-color: #135fa7;\n",
       "  color: #f1f1f1;\n",
       "  text-align: center;\n",
       "  font-weight: bold;\n",
       "  border: 1px solid black;\n",
       "}\n",
       "#T_8f527_row6_col3 {\n",
       "  background-color: #d2e3f3;\n",
       "  color: #000000;\n",
       "  text-align: center;\n",
       "  font-weight: bold;\n",
       "  border: 1px solid black;\n",
       "}\n",
       "#T_8f527_row6_col4 {\n",
       "  background-color: #87bddc;\n",
       "  color: #000000;\n",
       "  text-align: center;\n",
       "  font-weight: bold;\n",
       "  border: 1px solid black;\n",
       "}\n",
       "#T_8f527_row7_col1 {\n",
       "  background-color: #3282be;\n",
       "  color: #f1f1f1;\n",
       "  text-align: center;\n",
       "  font-weight: bold;\n",
       "  border: 1px solid black;\n",
       "}\n",
       "#T_8f527_row8_col4 {\n",
       "  background-color: #1764ab;\n",
       "  color: #f1f1f1;\n",
       "  text-align: center;\n",
       "  font-weight: bold;\n",
       "  border: 1px solid black;\n",
       "}\n",
       "#T_8f527_row8_col5 {\n",
       "  background-color: #8abfdd;\n",
       "  color: #000000;\n",
       "  text-align: center;\n",
       "  font-weight: bold;\n",
       "  border: 1px solid black;\n",
       "}\n",
       "#T_8f527_row9_col2 {\n",
       "  background-color: #ecf4fb;\n",
       "  color: #000000;\n",
       "  text-align: center;\n",
       "  font-weight: bold;\n",
       "  border: 1px solid black;\n",
       "}\n",
       "#T_8f527_row9_col3 {\n",
       "  background-color: #2e7ebc;\n",
       "  color: #f1f1f1;\n",
       "  text-align: center;\n",
       "  font-weight: bold;\n",
       "  border: 1px solid black;\n",
       "}\n",
       "#T_8f527_row9_col4 {\n",
       "  background-color: #aacfe5;\n",
       "  color: #000000;\n",
       "  text-align: center;\n",
       "  font-weight: bold;\n",
       "  border: 1px solid black;\n",
       "}\n",
       "#T_8f527_row9_col5 {\n",
       "  background-color: #d6e6f4;\n",
       "  color: #000000;\n",
       "  text-align: center;\n",
       "  font-weight: bold;\n",
       "  border: 1px solid black;\n",
       "}\n",
       "</style>\n",
       "<table id=\"T_8f527\">\n",
       "  <caption><b>Feature Matrix X (First 10 Samples)</b></caption>\n",
       "  <thead>\n",
       "    <tr>\n",
       "      <th class=\"blank level0\" >&nbsp;</th>\n",
       "      <th id=\"T_8f527_level0_col0\" class=\"col_heading level0 col0\" >Intercept</th>\n",
       "      <th id=\"T_8f527_level0_col1\" class=\"col_heading level0 col1\" >X_1</th>\n",
       "      <th id=\"T_8f527_level0_col2\" class=\"col_heading level0 col2\" >X_2</th>\n",
       "      <th id=\"T_8f527_level0_col3\" class=\"col_heading level0 col3\" >X_3</th>\n",
       "      <th id=\"T_8f527_level0_col4\" class=\"col_heading level0 col4\" >X_4</th>\n",
       "      <th id=\"T_8f527_level0_col5\" class=\"col_heading level0 col5\" >X_5</th>\n",
       "    </tr>\n",
       "  </thead>\n",
       "  <tbody>\n",
       "    <tr>\n",
       "      <th id=\"T_8f527_level0_row0\" class=\"row_heading level0 row0\" >0</th>\n",
       "      <td id=\"T_8f527_row0_col0\" class=\"data row0 col0\" >1.0000</td>\n",
       "      <td id=\"T_8f527_row0_col1\" class=\"data row0 col1\" >0.3745</td>\n",
       "      <td id=\"T_8f527_row0_col2\" class=\"data row0 col2\" >0.9507</td>\n",
       "      <td id=\"T_8f527_row0_col3\" class=\"data row0 col3\" >0.7320</td>\n",
       "      <td id=\"T_8f527_row0_col4\" class=\"data row0 col4\" >0.5987</td>\n",
       "      <td id=\"T_8f527_row0_col5\" class=\"data row0 col5\" >1.6998</td>\n",
       "    </tr>\n",
       "    <tr>\n",
       "      <th id=\"T_8f527_level0_row1\" class=\"row_heading level0 row1\" >1</th>\n",
       "      <td id=\"T_8f527_row1_col0\" class=\"data row1 col0\" >1.0000</td>\n",
       "      <td id=\"T_8f527_row1_col1\" class=\"data row1 col1\" >0.1560</td>\n",
       "      <td id=\"T_8f527_row1_col2\" class=\"data row1 col2\" >0.1560</td>\n",
       "      <td id=\"T_8f527_row1_col3\" class=\"data row1 col3\" >0.0581</td>\n",
       "      <td id=\"T_8f527_row1_col4\" class=\"data row1 col4\" >0.8662</td>\n",
       "      <td id=\"T_8f527_row1_col5\" class=\"data row1 col5\" >0.4680</td>\n",
       "    </tr>\n",
       "    <tr>\n",
       "      <th id=\"T_8f527_level0_row2\" class=\"row_heading level0 row2\" >2</th>\n",
       "      <td id=\"T_8f527_row2_col0\" class=\"data row2 col0\" >1.0000</td>\n",
       "      <td id=\"T_8f527_row2_col1\" class=\"data row2 col1\" >0.6011</td>\n",
       "      <td id=\"T_8f527_row2_col2\" class=\"data row2 col2\" >0.7081</td>\n",
       "      <td id=\"T_8f527_row2_col3\" class=\"data row2 col3\" >0.0206</td>\n",
       "      <td id=\"T_8f527_row2_col4\" class=\"data row2 col4\" >0.9699</td>\n",
       "      <td id=\"T_8f527_row2_col5\" class=\"data row2 col5\" >1.9103</td>\n",
       "    </tr>\n",
       "    <tr>\n",
       "      <th id=\"T_8f527_level0_row3\" class=\"row_heading level0 row3\" >3</th>\n",
       "      <td id=\"T_8f527_row3_col0\" class=\"data row3 col0\" >1.0000</td>\n",
       "      <td id=\"T_8f527_row3_col1\" class=\"data row3 col1\" >0.8324</td>\n",
       "      <td id=\"T_8f527_row3_col2\" class=\"data row3 col2\" >0.2123</td>\n",
       "      <td id=\"T_8f527_row3_col3\" class=\"data row3 col3\" >0.1818</td>\n",
       "      <td id=\"T_8f527_row3_col4\" class=\"data row3 col4\" >0.1834</td>\n",
       "      <td id=\"T_8f527_row3_col5\" class=\"data row3 col5\" >1.8772</td>\n",
       "    </tr>\n",
       "    <tr>\n",
       "      <th id=\"T_8f527_level0_row4\" class=\"row_heading level0 row4\" >4</th>\n",
       "      <td id=\"T_8f527_row4_col0\" class=\"data row4 col0\" >1.0000</td>\n",
       "      <td id=\"T_8f527_row4_col1\" class=\"data row4 col1\" >0.3042</td>\n",
       "      <td id=\"T_8f527_row4_col2\" class=\"data row4 col2\" >0.5248</td>\n",
       "      <td id=\"T_8f527_row4_col3\" class=\"data row4 col3\" >0.4319</td>\n",
       "      <td id=\"T_8f527_row4_col4\" class=\"data row4 col4\" >0.2912</td>\n",
       "      <td id=\"T_8f527_row4_col5\" class=\"data row4 col5\" >1.1332</td>\n",
       "    </tr>\n",
       "    <tr>\n",
       "      <th id=\"T_8f527_level0_row5\" class=\"row_heading level0 row5\" >5</th>\n",
       "      <td id=\"T_8f527_row5_col0\" class=\"data row5 col0\" >1.0000</td>\n",
       "      <td id=\"T_8f527_row5_col1\" class=\"data row5 col1\" >0.6119</td>\n",
       "      <td id=\"T_8f527_row5_col2\" class=\"data row5 col2\" >0.1395</td>\n",
       "      <td id=\"T_8f527_row5_col3\" class=\"data row5 col3\" >0.2921</td>\n",
       "      <td id=\"T_8f527_row5_col4\" class=\"data row5 col4\" >0.3664</td>\n",
       "      <td id=\"T_8f527_row5_col5\" class=\"data row5 col5\" >1.3632</td>\n",
       "    </tr>\n",
       "    <tr>\n",
       "      <th id=\"T_8f527_level0_row6\" class=\"row_heading level0 row6\" >6</th>\n",
       "      <td id=\"T_8f527_row6_col0\" class=\"data row6 col0\" >1.0000</td>\n",
       "      <td id=\"T_8f527_row6_col1\" class=\"data row6 col1\" >0.4561</td>\n",
       "      <td id=\"T_8f527_row6_col2\" class=\"data row6 col2\" >0.7852</td>\n",
       "      <td id=\"T_8f527_row6_col3\" class=\"data row6 col3\" >0.1997</td>\n",
       "      <td id=\"T_8f527_row6_col4\" class=\"data row6 col4\" >0.5142</td>\n",
       "      <td id=\"T_8f527_row6_col5\" class=\"data row6 col5\" >1.6973</td>\n",
       "    </tr>\n",
       "    <tr>\n",
       "      <th id=\"T_8f527_level0_row7\" class=\"row_heading level0 row7\" >7</th>\n",
       "      <td id=\"T_8f527_row7_col0\" class=\"data row7 col0\" >1.0000</td>\n",
       "      <td id=\"T_8f527_row7_col1\" class=\"data row7 col1\" >0.5924</td>\n",
       "      <td id=\"T_8f527_row7_col2\" class=\"data row7 col2\" >0.0465</td>\n",
       "      <td id=\"T_8f527_row7_col3\" class=\"data row7 col3\" >0.6075</td>\n",
       "      <td id=\"T_8f527_row7_col4\" class=\"data row7 col4\" >0.1705</td>\n",
       "      <td id=\"T_8f527_row7_col5\" class=\"data row7 col5\" >1.2313</td>\n",
       "    </tr>\n",
       "    <tr>\n",
       "      <th id=\"T_8f527_level0_row8\" class=\"row_heading level0 row8\" >8</th>\n",
       "      <td id=\"T_8f527_row8_col0\" class=\"data row8 col0\" >1.0000</td>\n",
       "      <td id=\"T_8f527_row8_col1\" class=\"data row8 col1\" >0.0651</td>\n",
       "      <td id=\"T_8f527_row8_col2\" class=\"data row8 col2\" >0.9489</td>\n",
       "      <td id=\"T_8f527_row8_col3\" class=\"data row8 col3\" >0.9656</td>\n",
       "      <td id=\"T_8f527_row8_col4\" class=\"data row8 col4\" >0.8084</td>\n",
       "      <td id=\"T_8f527_row8_col5\" class=\"data row8 col5\" >1.0790</td>\n",
       "    </tr>\n",
       "    <tr>\n",
       "      <th id=\"T_8f527_level0_row9\" class=\"row_heading level0 row9\" >9</th>\n",
       "      <td id=\"T_8f527_row9_col0\" class=\"data row9 col0\" >1.0000</td>\n",
       "      <td id=\"T_8f527_row9_col1\" class=\"data row9 col1\" >0.3046</td>\n",
       "      <td id=\"T_8f527_row9_col2\" class=\"data row9 col2\" >0.0977</td>\n",
       "      <td id=\"T_8f527_row9_col3\" class=\"data row9 col3\" >0.6842</td>\n",
       "      <td id=\"T_8f527_row9_col4\" class=\"data row9 col4\" >0.4402</td>\n",
       "      <td id=\"T_8f527_row9_col5\" class=\"data row9 col5\" >0.7069</td>\n",
       "    </tr>\n",
       "  </tbody>\n",
       "</table>\n"
      ],
      "text/plain": [
       "<pandas.io.formats.style.Styler at 0x2d1ff401760>"
      ]
     },
     "metadata": {},
     "output_type": "display_data"
    },
    {
     "data": {
      "text/html": [
       "<style type=\"text/css\">\n",
       "#T_83964 caption {\n",
       "  font-size: 14pt;\n",
       "  color: darkblue;\n",
       "  font-weight: bold;\n",
       "}\n",
       "#T_83964_row0_col0 {\n",
       "  background-color: #c2161b;\n",
       "  color: #f1f1f1;\n",
       "  text-align: center;\n",
       "  font-weight: bold;\n",
       "  border: 1px solid black;\n",
       "}\n",
       "#T_83964_row1_col0 {\n",
       "  background-color: #fdcebb;\n",
       "  color: #000000;\n",
       "  text-align: center;\n",
       "  font-weight: bold;\n",
       "  border: 1px solid black;\n",
       "}\n",
       "#T_83964_row2_col0 {\n",
       "  background-color: #67000d;\n",
       "  color: #f1f1f1;\n",
       "  text-align: center;\n",
       "  font-weight: bold;\n",
       "  border: 1px solid black;\n",
       "}\n",
       "#T_83964_row3_col0 {\n",
       "  background-color: #f34a36;\n",
       "  color: #f1f1f1;\n",
       "  text-align: center;\n",
       "  font-weight: bold;\n",
       "  border: 1px solid black;\n",
       "}\n",
       "#T_83964_row4_col0 {\n",
       "  background-color: #fb7a5a;\n",
       "  color: #f1f1f1;\n",
       "  text-align: center;\n",
       "  font-weight: bold;\n",
       "  border: 1px solid black;\n",
       "}\n",
       "#T_83964_row5_col0 {\n",
       "  background-color: #fc9e80;\n",
       "  color: #000000;\n",
       "  text-align: center;\n",
       "  font-weight: bold;\n",
       "  border: 1px solid black;\n",
       "}\n",
       "#T_83964_row6_col0 {\n",
       "  background-color: #a10e15;\n",
       "  color: #f1f1f1;\n",
       "  text-align: center;\n",
       "  font-weight: bold;\n",
       "  border: 1px solid black;\n",
       "}\n",
       "#T_83964_row7_col0 {\n",
       "  background-color: #fee1d4;\n",
       "  color: #000000;\n",
       "  text-align: center;\n",
       "  font-weight: bold;\n",
       "  border: 1px solid black;\n",
       "}\n",
       "#T_83964_row8_col0 {\n",
       "  background-color: #fc8565;\n",
       "  color: #f1f1f1;\n",
       "  text-align: center;\n",
       "  font-weight: bold;\n",
       "  border: 1px solid black;\n",
       "}\n",
       "#T_83964_row9_col0 {\n",
       "  background-color: #fff5f0;\n",
       "  color: #000000;\n",
       "  text-align: center;\n",
       "  font-weight: bold;\n",
       "  border: 1px solid black;\n",
       "}\n",
       "</style>\n",
       "<table id=\"T_83964\">\n",
       "  <caption><b>Target Vector y (First 10 Samples)</b></caption>\n",
       "  <thead>\n",
       "    <tr>\n",
       "      <th class=\"blank level0\" >&nbsp;</th>\n",
       "      <th id=\"T_83964_level0_col0\" class=\"col_heading level0 col0\" >Target</th>\n",
       "    </tr>\n",
       "  </thead>\n",
       "  <tbody>\n",
       "    <tr>\n",
       "      <th id=\"T_83964_level0_row0\" class=\"row_heading level0 row0\" >0</th>\n",
       "      <td id=\"T_83964_row0_col0\" class=\"data row0 col0\" >2.6338</td>\n",
       "    </tr>\n",
       "    <tr>\n",
       "      <th id=\"T_83964_level0_row1\" class=\"row_heading level0 row1\" >1</th>\n",
       "      <td id=\"T_83964_row1_col0\" class=\"data row1 col0\" >0.6950</td>\n",
       "    </tr>\n",
       "    <tr>\n",
       "      <th id=\"T_83964_level0_row2\" class=\"row_heading level0 row2\" >2</th>\n",
       "      <td id=\"T_83964_row2_col0\" class=\"data row2 col0\" >3.3638</td>\n",
       "    </tr>\n",
       "    <tr>\n",
       "      <th id=\"T_83964_level0_row3\" class=\"row_heading level0 row3\" >3</th>\n",
       "      <td id=\"T_83964_row3_col0\" class=\"data row3 col0\" >1.9981</td>\n",
       "    </tr>\n",
       "    <tr>\n",
       "      <th id=\"T_83964_level0_row4\" class=\"row_heading level0 row4\" >4</th>\n",
       "      <td id=\"T_83964_row4_col0\" class=\"data row4 col0\" >1.5673</td>\n",
       "    </tr>\n",
       "    <tr>\n",
       "      <th id=\"T_83964_level0_row5\" class=\"row_heading level0 row5\" >5</th>\n",
       "      <td id=\"T_83964_row5_col0\" class=\"data row5 col0\" >1.1910</td>\n",
       "    </tr>\n",
       "    <tr>\n",
       "      <th id=\"T_83964_level0_row6\" class=\"row_heading level0 row6\" >6</th>\n",
       "      <td id=\"T_83964_row6_col0\" class=\"data row6 col0\" >2.9779</td>\n",
       "    </tr>\n",
       "    <tr>\n",
       "      <th id=\"T_83964_level0_row7\" class=\"row_heading level0 row7\" >7</th>\n",
       "      <td id=\"T_83964_row7_col0\" class=\"data row7 col0\" >0.4724</td>\n",
       "    </tr>\n",
       "    <tr>\n",
       "      <th id=\"T_83964_level0_row8\" class=\"row_heading level0 row8\" >8</th>\n",
       "      <td id=\"T_83964_row8_col0\" class=\"data row8 col0\" >1.4465</td>\n",
       "    </tr>\n",
       "    <tr>\n",
       "      <th id=\"T_83964_level0_row9\" class=\"row_heading level0 row9\" >9</th>\n",
       "      <td id=\"T_83964_row9_col0\" class=\"data row9 col0\" >0.0851</td>\n",
       "    </tr>\n",
       "  </tbody>\n",
       "</table>\n"
      ],
      "text/plain": [
       "<pandas.io.formats.style.Styler at 0x2d18f11fe60>"
      ]
     },
     "metadata": {},
     "output_type": "display_data"
    },
    {
     "name": "stdout",
     "output_type": "stream",
     "text": [
      "\n",
      "==================================================\n",
      "XtX Matrix Properties:\n",
      "Determinant:         -0.000000\n",
      "Condition Number:    23855731764468160.00\n",
      "Invertibility:       Invertible\n",
      "==================================================\n"
     ]
    }
   ],
   "source": [
    "# Settings for reproducibility and display\n",
    "np.random.seed(42)\n",
    "pd.set_option('display.float_format', '{:.4f}'.format)\n",
    "n = 100  # Number of samples\n",
    "\n",
    "# 2. Convert to pandas DataFrames\n",
    "df_X = pd.DataFrame(X, columns=['Intercept'] + [f'X_{i}' for i in range(1,6)])\n",
    "df_y = pd.DataFrame(y, columns=['Target'])\n",
    "\n",
    "# 3. Check matrix properties\n",
    "XtX = X.T @ X\n",
    "det_XtX = np.linalg.det(XtX)\n",
    "cond_num = np.linalg.cond(XtX)\n",
    "\n",
    "# 4. Enhanced display with color styling\n",
    "def style_dataframe(df, title, color):\n",
    "    return (df.head(10)\n",
    "            .style\n",
    "            .set_caption(f'<b>{title}</b>')\n",
    "            .background_gradient(cmap=color, subset=pd.IndexSlice[:, df.columns])\n",
    "            .set_properties(**{\n",
    "                'text-align': 'center',\n",
    "                'font-weight': 'bold',\n",
    "                'border': '1px solid black'\n",
    "            })\n",
    "            .format('{:.4f}')\n",
    "            .set_table_styles([{\n",
    "                'selector': 'caption',\n",
    "                'props': [\n",
    "                    ('font-size', '14pt'),\n",
    "                    ('color', 'darkblue'),\n",
    "                    ('font-weight', 'bold')\n",
    "                ]\n",
    "            }]))\n",
    "\n",
    "# Display tables\n",
    "display(style_dataframe(df_X, 'Feature Matrix X (First 10 Samples)', 'Blues'))\n",
    "display(style_dataframe(df_y, 'Target Vector y (First 10 Samples)', 'Reds'))\n",
    "\n",
    "# Display matrix properties\n",
    "print(f\"\\n{'='*50}\")\n",
    "print(f\"XtX Matrix Properties:\")\n",
    "print(f\"{'Determinant:':<20} {det_XtX:.6f}\")\n",
    "print(f\"{'Condition Number:':<20} {cond_num:.2f}\")\n",
    "print(f\"{'Invertibility:':<20} {'Invertible' if abs(det_XtX) > 1e-10 else 'Singular'}\")\n",
    "print('='*50)"
   ]
  },
  {
   "cell_type": "code",
   "execution_count": 5,
   "id": "26fa81bf-2aaf-439c-996e-26c4a694e182",
   "metadata": {},
   "outputs": [
    {
     "data": {
      "text/plain": [
       "6"
      ]
     },
     "execution_count": 5,
     "metadata": {},
     "output_type": "execute_result"
    }
   ],
   "source": [
    "X.shape[1]"
   ]
  },
  {
   "cell_type": "code",
   "execution_count": 6,
   "id": "cb685b1b-b510-4ea2-b080-661bb1e7452a",
   "metadata": {},
   "outputs": [
    {
     "data": {
      "text/plain": [
       "100"
      ]
     },
     "execution_count": 6,
     "metadata": {},
     "output_type": "execute_result"
    }
   ],
   "source": [
    "X.shape[0]"
   ]
  },
  {
   "cell_type": "code",
   "execution_count": 7,
   "id": "c96d3899-8851-4b46-a9e1-c34b7ff1b5c9",
   "metadata": {},
   "outputs": [],
   "source": [
    "#(1/det_rounded)*(XtX) "
   ]
  },
  {
   "cell_type": "code",
   "execution_count": 8,
   "id": "f8e24b35-69c4-4aa6-a54c-ef42cfcdb02e",
   "metadata": {},
   "outputs": [
    {
     "data": {
      "text/plain": [
       "array([[ 1.09795097e-01, -1.24289578e-01, -7.72610888e-02,\n",
       "        -5.23768168e-02, -5.22623712e-02,  3.52713666e-02],\n",
       "       [-1.48203394e-01, -2.81474977e+13, -1.40737488e+13,\n",
       "         1.08082615e-01,  5.72589787e-02,  1.40737488e+13],\n",
       "       [-8.90493909e-02, -1.40737488e+13, -7.03687442e+12,\n",
       "         3.98061804e-02,  3.89871548e-03,  7.03687442e+12],\n",
       "       [-5.23768168e-02,  9.23320837e-02,  3.19309147e-02,\n",
       "         1.18148999e-01, -5.06724330e-03, -4.41882125e-02],\n",
       "       [-5.22623712e-02,  5.12840768e-02,  9.11264515e-04,\n",
       "        -5.06724330e-03,  1.28210192e-01, -2.26545874e-02],\n",
       "       [ 4.66702949e-02,  1.40737488e+13,  7.03687442e+12,\n",
       "        -5.20634782e-02, -2.56420384e-02, -7.03687442e+12]])"
      ]
     },
     "execution_count": 8,
     "metadata": {},
     "output_type": "execute_result"
    }
   ],
   "source": [
    "inv_matrix = np.linalg.inv(XtX) \n",
    "inv_matrix"
   ]
  },
  {
   "cell_type": "code",
   "execution_count": 9,
   "id": "3235f1c5-a031-4be2-b759-017ec1d7ea4f",
   "metadata": {},
   "outputs": [
    {
     "name": "stdout",
     "output_type": "stream",
     "text": [
      "\n",
      "=== Ridge Regression Results ===\n",
      "Coefficient     Value     \n",
      "-------------------------\n",
      "w_0            0.178112\n",
      "w_1            -1.213767\n",
      "w_2            1.343718\n",
      "w_3            -1.485282\n",
      "w_4            -0.024401\n",
      "w_5            1.499161\n",
      "\n",
      "Note: Coefficients computed with L2 regularization\n"
     ]
    }
   ],
   "source": [
    "# Calculate Ridge Regression coefficients\n",
    "w_ridge = inv_matrix @ X.T @ y\n",
    "\n",
    "# Print formatted results\n",
    "print(\"\\n=== Ridge Regression Results ===\")\n",
    "print(f\"{'Coefficient':<15} {'Value':<10}\")\n",
    "print(\"-\" * 25)\n",
    "for i, coef in enumerate(w_ridge):\n",
    "    print(f\"w_{i:<12} {coef:.6f}\")\n",
    "print(\"\\nNote: Coefficients computed with L2 regularization\")"
   ]
  },
  {
   "cell_type": "code",
   "execution_count": 10,
   "id": "a7638dc1-8163-4077-9bd0-a5198c32c6d5",
   "metadata": {},
   "outputs": [],
   "source": [
    "y_pred_ridge = X @ w_ridge"
   ]
  },
  {
   "cell_type": "code",
   "execution_count": 38,
   "id": "b032a44c-c4a7-437c-8797-87afbb18bd37",
   "metadata": {},
   "outputs": [],
   "source": [
    "lambda_ = 0.1\n",
    "sse_ridge = np.sum((y - y_pred_ridge)**2)\n",
    "\n",
    "l2_penalty = lambda_ * np.sum(w_ridge[1:]**2) \n",
    "total_loss_ridge =  sse_ridge + l2_penalty"
   ]
  },
  {
   "cell_type": "code",
   "execution_count": 39,
   "id": "658d1a7c-d67a-4063-acec-ba0758de3e42",
   "metadata": {},
   "outputs": [
    {
     "data": {
      "text/plain": [
       "1.5774226802005704"
      ]
     },
     "execution_count": 39,
     "metadata": {},
     "output_type": "execute_result"
    }
   ],
   "source": [
    "y[10]"
   ]
  },
  {
   "cell_type": "code",
   "execution_count": 40,
   "id": "ae844233-cdd9-45fc-8e4e-266a8203c393",
   "metadata": {},
   "outputs": [
    {
     "data": {
      "text/plain": [
       "1.3753509368923487"
      ]
     },
     "execution_count": 40,
     "metadata": {},
     "output_type": "execute_result"
    }
   ],
   "source": [
    "y_pred_ridge[10]"
   ]
  },
  {
   "cell_type": "code",
   "execution_count": 41,
   "id": "c4d264e3-78ac-478b-9782-f3c81243a046",
   "metadata": {},
   "outputs": [
    {
     "name": "stdout",
     "output_type": "stream",
     "text": [
      "Ridge SSE: 7.626280446609328\n"
     ]
    }
   ],
   "source": [
    "print(\"Ridge SSE:\", sse_ridge)"
   ]
  },
  {
   "cell_type": "code",
   "execution_count": 42,
   "id": "7af73051-d640-49c4-99ff-6aca740e20ca",
   "metadata": {},
   "outputs": [],
   "source": [
    "# ============================================================================================================================= #\n",
    "# ============================================================================================================================= #\n",
    "# ============================================================================================================================= #\n",
    "# ============================================================================================================================= #"
   ]
  },
  {
   "cell_type": "code",
   "execution_count": 70,
   "id": "a37115f4-1fa3-442b-adc0-6d0ec55f5967",
   "metadata": {},
   "outputs": [],
   "source": [
    "# Set ridge parameter\n",
    "s = 4  # Regularization strength (lambda)\n",
    "\n",
    "# Create identity matrix with appropriate dimensions (number of features + 1 for intercept)\n",
    "I = np.identity(X.shape[1])\n",
    "I[0, 0] = 0  # No penalty applied to intercept term"
   ]
  },
  {
   "cell_type": "code",
   "execution_count": 71,
   "id": "7c27a6ed-d826-42f0-9d2d-0ae937431083",
   "metadata": {},
   "outputs": [
    {
     "data": {
      "text/plain": [
       "array([[0., 0., 0., 0., 0., 0.],\n",
       "       [0., 1., 0., 0., 0., 0.],\n",
       "       [0., 0., 1., 0., 0., 0.],\n",
       "       [0., 0., 0., 1., 0., 0.],\n",
       "       [0., 0., 0., 0., 1., 0.],\n",
       "       [0., 0., 0., 0., 0., 1.]])"
      ]
     },
     "execution_count": 71,
     "metadata": {},
     "output_type": "execute_result"
    }
   ],
   "source": [
    "I"
   ]
  },
  {
   "cell_type": "code",
   "execution_count": 72,
   "id": "34b217ed-6e7a-4ca3-95cd-f707e4a0aba4",
   "metadata": {},
   "outputs": [
    {
     "data": {
      "text/plain": [
       "array([[0., 0., 0., 0., 0., 0.],\n",
       "       [0., 4., 0., 0., 0., 0.],\n",
       "       [0., 0., 4., 0., 0., 0.],\n",
       "       [0., 0., 0., 4., 0., 0.],\n",
       "       [0., 0., 0., 0., 4., 0.],\n",
       "       [0., 0., 0., 0., 0., 4.]])"
      ]
     },
     "execution_count": 72,
     "metadata": {},
     "output_type": "execute_result"
    }
   ],
   "source": [
    "s * I"
   ]
  },
  {
   "cell_type": "code",
   "execution_count": 73,
   "id": "bb5c28b6-8e00-49e8-bbf9-25df8bfef22f",
   "metadata": {},
   "outputs": [
    {
     "data": {
      "text/plain": [
       "44453411.4858"
      ]
     },
     "execution_count": 73,
     "metadata": {},
     "output_type": "execute_result"
    }
   ],
   "source": [
    "det = np.linalg.det(XtX + s * I )\n",
    "det_rounded = round(det, 4)\n",
    "det_rounded "
   ]
  },
  {
   "cell_type": "code",
   "execution_count": 74,
   "id": "5c8a6eed-ea2a-446e-850f-c58aea984c19",
   "metadata": {},
   "outputs": [
    {
     "data": {
      "text/plain": [
       "6"
      ]
     },
     "execution_count": 74,
     "metadata": {},
     "output_type": "execute_result"
    }
   ],
   "source": [
    "np.linalg.matrix_rank(XtX+ s * I)"
   ]
  },
  {
   "cell_type": "code",
   "execution_count": 75,
   "id": "0a389af6-a943-4f0e-a0eb-31748945b1f4",
   "metadata": {},
   "outputs": [
    {
     "data": {
      "text/plain": [
       "115.42959713945147"
      ]
     },
     "execution_count": 75,
     "metadata": {},
     "output_type": "execute_result"
    }
   ],
   "source": [
    "np.linalg.cond(XtX+ s * I)"
   ]
  },
  {
   "cell_type": "code",
   "execution_count": 76,
   "id": "ba84b580-9dac-4299-8ad3-75b5a7b0fce5",
   "metadata": {},
   "outputs": [
    {
     "data": {
      "text/plain": [
       "1.9661631801758332"
      ]
     },
     "execution_count": 76,
     "metadata": {},
     "output_type": "execute_result"
    }
   ],
   "source": [
    "np.log10(92.50456818351199)"
   ]
  },
  {
   "cell_type": "code",
   "execution_count": 77,
   "id": "f566e968-6c36-4756-8d1c-4651bc0a3811",
   "metadata": {},
   "outputs": [
    {
     "data": {
      "text/plain": [
       "array([[ 1.09158844e-01, -4.14489278e-03, -1.70265329e-02,\n",
       "        -5.18100939e-02, -5.16608251e-02, -2.53163185e-02],\n",
       "       [-4.14489278e-03,  6.69346695e+00,  3.28486824e+00,\n",
       "         5.27653391e-03,  9.00523363e-03, -3.32819787e+00],\n",
       "       [-1.70265329e-02,  3.28486824e+00,  1.76794318e+00,\n",
       "        -1.12664865e-02, -1.96161140e-02, -1.66232035e+00],\n",
       "       [-5.18100939e-02,  5.27653391e-03, -1.12664865e-02,\n",
       "         1.16751179e-01, -4.97198646e-03, -7.13418676e-04],\n",
       "       [-5.16608251e-02,  9.00523363e-03, -1.96161140e-02,\n",
       "        -4.97198646e-03,  1.26537303e-01, -1.60564671e-03],\n",
       "       [-2.53163185e-02, -3.32819787e+00, -1.66232035e+00,\n",
       "        -7.13418676e-04, -1.60564671e-03,  1.68128391e+00]])"
      ]
     },
     "execution_count": 77,
     "metadata": {},
     "output_type": "execute_result"
    }
   ],
   "source": [
    "inv_matrix = np.linalg.inv(XtX + lambda_ * I ) \n",
    "inv_matrix"
   ]
  },
  {
   "cell_type": "code",
   "execution_count": 78,
   "id": "033f54eb-a7d7-4fd9-a87c-7ca6d1665e3c",
   "metadata": {},
   "outputs": [
    {
     "name": "stdout",
     "output_type": "stream",
     "text": [
      "\n",
      "=== Ridge Regression Coefficients ===\n",
      "Coefficient      Value\n",
      "----------------------\n",
      "θ_0            0.0144\n",
      "θ_1           -0.2888\n",
      "θ_2            1.7465\n",
      "θ_3           -1.4657\n",
      "θ_4           -0.0209\n",
      "θ_5            1.1688\n",
      "\n",
      "Regularization strength (λ): 4.0\n"
     ]
    }
   ],
   "source": [
    "# Calculate Ridge Regression coefficients\n",
    "w_ridge = inv_matrix @ X.T @ y\n",
    "\n",
    "# Display results with formatting\n",
    "print(\"\\n=== Ridge Regression Coefficients ===\")\n",
    "print(f\"{'Coefficient':<12}{'Value':>10}\")\n",
    "print(\"-\" * 22)\n",
    "for i, coef in enumerate(w_ridge):\n",
    "    print(f\"θ_{i:<9}{coef:>10.4f}\")  # θ for coefficients, 4 decimal places\n",
    "print(f\"\\nRegularization strength (λ): {s:.1f}\")"
   ]
  },
  {
   "cell_type": "code",
   "execution_count": 79,
   "id": "f52f419b-393c-4cc0-88ba-c1818c3b77e2",
   "metadata": {},
   "outputs": [],
   "source": [
    "y_pred_ridge = X @ w_ridge"
   ]
  },
  {
   "cell_type": "code",
   "execution_count": 80,
   "id": "a9ec5147-eda7-483b-ae1b-35067e051e91",
   "metadata": {},
   "outputs": [],
   "source": [
    "sse_ridge = np.sum((y - y_pred_ridge)**2)\n",
    "\n",
    "l2_penalty = lambda_ * np.sum(w_ridge[1:]**2) \n",
    "total_loss_ridge =  sse_ridge + l2_penalty"
   ]
  },
  {
   "cell_type": "code",
   "execution_count": 81,
   "id": "22556001-819d-4351-9659-e571c6635a39",
   "metadata": {},
   "outputs": [
    {
     "data": {
      "text/plain": [
       "1.5774226802005704"
      ]
     },
     "execution_count": 81,
     "metadata": {},
     "output_type": "execute_result"
    }
   ],
   "source": [
    "y[10]"
   ]
  },
  {
   "cell_type": "code",
   "execution_count": 82,
   "id": "cdf7abbe-22d0-4240-b824-112e96787d47",
   "metadata": {},
   "outputs": [
    {
     "data": {
      "text/plain": [
       "1.6385922687482715"
      ]
     },
     "execution_count": 82,
     "metadata": {},
     "output_type": "execute_result"
    }
   ],
   "source": [
    "y_pred_ridge[10]"
   ]
  },
  {
   "cell_type": "code",
   "execution_count": 56,
   "id": "2e88df04-aa9d-46c6-abdf-a6a48c1f53f7",
   "metadata": {},
   "outputs": [
    {
     "name": "stdout",
     "output_type": "stream",
     "text": [
      "Ridge SSE: 0.7727727820586238\n"
     ]
    }
   ],
   "source": [
    "print(\"Ridge SSE:\", sse_ridge)"
   ]
  },
  {
   "cell_type": "code",
   "execution_count": 54,
   "id": "be8a8885-1cac-4820-a760-f30c532d531b",
   "metadata": {},
   "outputs": [],
   "source": [
    "# Finish"
   ]
  }
 ],
 "metadata": {
  "kernelspec": {
   "display_name": "Python 3 (ipykernel)",
   "language": "python",
   "name": "python3"
  },
  "language_info": {
   "codemirror_mode": {
    "name": "ipython",
    "version": 3
   },
   "file_extension": ".py",
   "mimetype": "text/x-python",
   "name": "python",
   "nbconvert_exporter": "python",
   "pygments_lexer": "ipython3",
   "version": "3.12.7"
  }
 },
 "nbformat": 4,
 "nbformat_minor": 5
}
